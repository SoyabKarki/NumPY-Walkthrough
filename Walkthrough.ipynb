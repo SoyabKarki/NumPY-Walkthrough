{
 "cells": [
  {
   "cell_type": "code",
   "execution_count": 1,
   "id": "cad1e454-964f-49f6-aa59-862e937a2b1f",
   "metadata": {},
   "outputs": [],
   "source": [
    "import numpy as np\n",
    "import sys"
   ]
  },
  {
   "cell_type": "code",
   "execution_count": 7,
   "id": "441a21e2-49c3-4273-8e14-3016db578669",
   "metadata": {},
   "outputs": [
    {
     "data": {
      "text/plain": [
       "(array([1, 2, 3]),\n",
       " array([[1, 2, 3],\n",
       "        [3, 4, 5]]))"
      ]
     },
     "execution_count": 7,
     "metadata": {},
     "output_type": "execute_result"
    }
   ],
   "source": [
    "# Create an array\n",
    "a = np.array([1,2,3]) # 1d\n",
    "b = np.array([[1,2,3], [3,4,5]]) # 2d (2 lists within a list)\n",
    "a, b"
   ]
  },
  {
   "cell_type": "code",
   "execution_count": 8,
   "id": "fcd8f1da-3215-4538-925a-46d7f2ff16a3",
   "metadata": {},
   "outputs": [
    {
     "data": {
      "text/plain": [
       "2"
      ]
     },
     "execution_count": 8,
     "metadata": {},
     "output_type": "execute_result"
    }
   ],
   "source": [
    "# Get dimension\n",
    "b.ndim"
   ]
  },
  {
   "cell_type": "code",
   "execution_count": 10,
   "id": "c6abe649-cb80-40cd-85f9-b59389c22adb",
   "metadata": {},
   "outputs": [
    {
     "data": {
      "text/plain": [
       "(2, 3)"
      ]
     },
     "execution_count": 10,
     "metadata": {},
     "output_type": "execute_result"
    }
   ],
   "source": [
    "# Get shape (rows and columns)\n",
    "b.shape"
   ]
  },
  {
   "cell_type": "code",
   "execution_count": 11,
   "id": "dba930e8-8934-448e-a1f0-3c1bd2e72e8c",
   "metadata": {},
   "outputs": [
    {
     "data": {
      "text/plain": [
       "dtype('int32')"
      ]
     },
     "execution_count": 11,
     "metadata": {},
     "output_type": "execute_result"
    }
   ],
   "source": [
    "# Get type\n",
    "b.dtype"
   ]
  },
  {
   "cell_type": "code",
   "execution_count": 12,
   "id": "4d74610f-f09c-4d9b-a269-98e5206b7e1a",
   "metadata": {},
   "outputs": [
    {
     "data": {
      "text/plain": [
       "4"
      ]
     },
     "execution_count": 12,
     "metadata": {},
     "output_type": "execute_result"
    }
   ],
   "source": [
    "# Get the number of bytes used\n",
    "b.itemsize"
   ]
  },
  {
   "cell_type": "code",
   "execution_count": 13,
   "id": "c85b4b32-5c0b-43ff-a833-c2b151d6a47c",
   "metadata": {},
   "outputs": [
    {
     "data": {
      "text/plain": [
       "24"
      ]
     },
     "execution_count": 13,
     "metadata": {},
     "output_type": "execute_result"
    }
   ],
   "source": [
    "# Get total size\n",
    "b.nbytes"
   ]
  },
  {
   "cell_type": "markdown",
   "id": "fb61a8d7-64f3-4bb3-b12a-ebe7ac5917d9",
   "metadata": {},
   "source": [
    "### Accessing/ Changing specific elements, rows, columns, etc"
   ]
  },
  {
   "cell_type": "code",
   "execution_count": 15,
   "id": "97588864-3d49-47bc-9ea4-35db01d5839f",
   "metadata": {},
   "outputs": [
    {
     "data": {
      "text/plain": [
       "array([[ 1,  2,  3,  4,  5,  6,  7],\n",
       "       [ 8,  9, 10, 11, 12, 13, 14]])"
      ]
     },
     "execution_count": 15,
     "metadata": {},
     "output_type": "execute_result"
    }
   ],
   "source": [
    "a = np.array([[1,2,3,4,5,6,7],[8,9,10,11,12,13,14]])\n",
    "a"
   ]
  },
  {
   "cell_type": "code",
   "execution_count": 17,
   "id": "156bb5cc-acd7-4924-b119-c2b3cafd75f7",
   "metadata": {},
   "outputs": [
    {
     "data": {
      "text/plain": [
       "13"
      ]
     },
     "execution_count": 17,
     "metadata": {},
     "output_type": "execute_result"
    }
   ],
   "source": [
    "# Get a specific element [row, col]\n",
    "a[1, 5]"
   ]
  },
  {
   "cell_type": "code",
   "execution_count": 21,
   "id": "fc94f4ca-5b73-453e-953f-882f9d2881f6",
   "metadata": {},
   "outputs": [
    {
     "data": {
      "text/plain": [
       "array([1, 2, 3, 4, 5, 6, 7])"
      ]
     },
     "execution_count": 21,
     "metadata": {},
     "output_type": "execute_result"
    }
   ],
   "source": [
    "# Get a specific row\n",
    "a[0, :] # Or a[0]"
   ]
  },
  {
   "cell_type": "code",
   "execution_count": 20,
   "id": "4420405f-35a7-4d31-989b-8f754f17e1bb",
   "metadata": {},
   "outputs": [
    {
     "data": {
      "text/plain": [
       "array([ 3, 10])"
      ]
     },
     "execution_count": 20,
     "metadata": {},
     "output_type": "execute_result"
    }
   ],
   "source": [
    "# Get a specific column\n",
    "a[:, 2]"
   ]
  },
  {
   "cell_type": "code",
   "execution_count": 23,
   "id": "d16669b7-c57d-44f3-b089-2c903dc4f2b2",
   "metadata": {},
   "outputs": [
    {
     "data": {
      "text/plain": [
       "array([2, 4, 6])"
      ]
     },
     "execution_count": 23,
     "metadata": {},
     "output_type": "execute_result"
    }
   ],
   "source": [
    "# Using slicing to access elements\n",
    "a[0, 1:6:2]"
   ]
  },
  {
   "cell_type": "code",
   "execution_count": 24,
   "id": "cb0d167f-14ea-461a-8e54-59a5d911829d",
   "metadata": {},
   "outputs": [
    {
     "data": {
      "text/plain": [
       "array([[ 1,  2,  3,  4,  5,  6,  7],\n",
       "       [ 8,  9, 10, 11, 12, 20, 14]])"
      ]
     },
     "execution_count": 24,
     "metadata": {},
     "output_type": "execute_result"
    }
   ],
   "source": [
    "# Change values\n",
    "a[1, 5] = 20\n",
    "a"
   ]
  },
  {
   "cell_type": "markdown",
   "id": "f3af5ae2-7a6f-4b9d-a4e4-6440c45da1aa",
   "metadata": {},
   "source": [
    "### Shortcuts for different arrays "
   ]
  },
  {
   "cell_type": "code",
   "execution_count": 27,
   "id": "c04dd041-5cb6-4f49-b075-670f3ab2613c",
   "metadata": {},
   "outputs": [
    {
     "data": {
      "text/plain": [
       "array([[0., 0., 0.],\n",
       "       [0., 0., 0.]])"
      ]
     },
     "execution_count": 27,
     "metadata": {},
     "output_type": "execute_result"
    }
   ],
   "source": [
    "# All 0s matrix\n",
    "np.zeros((2,3))"
   ]
  },
  {
   "cell_type": "code",
   "execution_count": 28,
   "id": "7531ab95-b523-446c-baa3-efdc40495df2",
   "metadata": {},
   "outputs": [
    {
     "data": {
      "text/plain": [
       "array([[[1., 1.],\n",
       "        [1., 1.]],\n",
       "\n",
       "       [[1., 1.],\n",
       "        [1., 1.]],\n",
       "\n",
       "       [[1., 1.],\n",
       "        [1., 1.]],\n",
       "\n",
       "       [[1., 1.],\n",
       "        [1., 1.]]])"
      ]
     },
     "execution_count": 28,
     "metadata": {},
     "output_type": "execute_result"
    }
   ],
   "source": [
    "# All 1s\n",
    "np.ones((4,2,2))"
   ]
  },
  {
   "cell_type": "code",
   "execution_count": 30,
   "id": "111c9e30-15fb-4aa2-b430-494f2f59cf14",
   "metadata": {},
   "outputs": [
    {
     "data": {
      "text/plain": [
       "array([[6, 6, 6],\n",
       "       [6, 6, 6]])"
      ]
     },
     "execution_count": 30,
     "metadata": {},
     "output_type": "execute_result"
    }
   ],
   "source": [
    "# Any other number\n",
    "np.full((2,3), 6) # Args - Dimension and number to fill"
   ]
  },
  {
   "cell_type": "code",
   "execution_count": 32,
   "id": "4211a25b-d384-4d55-8ca1-e7cec1aef338",
   "metadata": {},
   "outputs": [
    {
     "data": {
      "text/plain": [
       "array([[6, 6, 6, 6, 6, 6, 6],\n",
       "       [6, 6, 6, 6, 6, 6, 6]])"
      ]
     },
     "execution_count": 32,
     "metadata": {},
     "output_type": "execute_result"
    }
   ],
   "source": [
    "# Any other number with the dimension of a previously created array\n",
    "np.full_like(a, 6)"
   ]
  },
  {
   "cell_type": "code",
   "execution_count": 35,
   "id": "8867646f-1190-4b3c-be91-40358e04f156",
   "metadata": {},
   "outputs": [
    {
     "data": {
      "text/plain": [
       "array([[0.55584307, 0.79161701, 0.30874616],\n",
       "       [0.85357395, 0.4316693 , 0.47271658]])"
      ]
     },
     "execution_count": 35,
     "metadata": {},
     "output_type": "execute_result"
    }
   ],
   "source": [
    "# Array with random decimals\n",
    "np.random.rand(2,3)"
   ]
  },
  {
   "cell_type": "code",
   "execution_count": 36,
   "id": "9ee8f32e-5a30-4bb6-983a-850f9933c5e3",
   "metadata": {},
   "outputs": [
    {
     "data": {
      "text/plain": [
       "array([[0.30712755, 0.26755864, 0.94344666, 0.5362249 , 0.64764156,\n",
       "        0.49289932, 0.1724776 ],\n",
       "       [0.93718228, 0.60847374, 0.21519234, 0.34951192, 0.11234311,\n",
       "        0.56596562, 0.7759535 ]])"
      ]
     },
     "execution_count": 36,
     "metadata": {},
     "output_type": "execute_result"
    }
   ],
   "source": [
    "# Array with random decimals with the dimension of a previously created array\n",
    "np.random.random_sample(a.shape)"
   ]
  },
  {
   "cell_type": "code",
   "execution_count": 39,
   "id": "5c436cf8-a4be-40f4-adf0-5cc007cd5e07",
   "metadata": {},
   "outputs": [
    {
     "data": {
      "text/plain": [
       "array([[3, 2, 1],\n",
       "       [6, 2, 5]])"
      ]
     },
     "execution_count": 39,
     "metadata": {},
     "output_type": "execute_result"
    }
   ],
   "source": [
    "# Array with random decimal values\n",
    "np.random.randint(1, 7, size=(2,3)) # Start, end (both inclusive), array_size"
   ]
  },
  {
   "cell_type": "code",
   "execution_count": 41,
   "id": "5b0c2dad-60bf-4f51-aaf2-c6b58df8cd0d",
   "metadata": {},
   "outputs": [
    {
     "data": {
      "text/plain": [
       "array([[1., 0., 0.],\n",
       "       [0., 1., 0.],\n",
       "       [0., 0., 1.]])"
      ]
     },
     "execution_count": 41,
     "metadata": {},
     "output_type": "execute_result"
    }
   ],
   "source": [
    "# Identity matrix\n",
    "np.identity(3)"
   ]
  },
  {
   "cell_type": "code",
   "execution_count": 46,
   "id": "8935d2eb-f2d7-4608-bf0d-6aad6bdd72fb",
   "metadata": {},
   "outputs": [
    {
     "name": "stdout",
     "output_type": "stream",
     "text": [
      "[[1 2 3]\n",
      " [1 2 3]\n",
      " [1 2 3]]\n",
      "[[1 1 1 2 2 2 3 3 3]]\n"
     ]
    }
   ],
   "source": [
    "# Repeat the contents of an array and append\n",
    "arr = np.array([[1,2,3]])\n",
    "r1 = np.repeat(arr, 3, axis=0)\n",
    "r2 = np.repeat(arr, 3, axis=1)\n",
    "print(r1)\n",
    "print(r2)"
   ]
  },
  {
   "cell_type": "markdown",
   "id": "f78c6223-a055-471e-be5a-cb953e99bcf1",
   "metadata": {},
   "source": [
    "### Problem 1"
   ]
  },
  {
   "cell_type": "code",
   "execution_count": 56,
   "id": "a176bb61-c1ed-468f-af02-7a1464504d2e",
   "metadata": {},
   "outputs": [
    {
     "data": {
      "text/plain": [
       "array([[1., 1., 1., 1., 1.],\n",
       "       [1., 0., 0., 0., 1.],\n",
       "       [1., 0., 9., 0., 1.],\n",
       "       [1., 0., 0., 0., 1.],\n",
       "       [1., 1., 1., 1., 1.]])"
      ]
     },
     "execution_count": 56,
     "metadata": {},
     "output_type": "execute_result"
    }
   ],
   "source": [
    "n1 = np.ones((5, 5))\n",
    "n1[1:4, 1:4] = 0\n",
    "n1[2,2] = 9\n",
    "n1"
   ]
  },
  {
   "cell_type": "code",
   "execution_count": 58,
   "id": "e1984f13-7868-46c6-915d-f6c43b85fb2a",
   "metadata": {},
   "outputs": [
    {
     "data": {
      "text/plain": [
       "array([1, 2, 3])"
      ]
     },
     "execution_count": 58,
     "metadata": {},
     "output_type": "execute_result"
    }
   ],
   "source": [
    "# Copying an array\n",
    "a = np.array([1,2,3])\n",
    "b = a.copy()\n",
    "b\n",
    "# If you type b=a, changing b will change a as well"
   ]
  },
  {
   "cell_type": "markdown",
   "id": "1a00c93d-c6c6-462d-a0a1-4e560b74b20b",
   "metadata": {},
   "source": [
    "### MATHEMATICS"
   ]
  },
  {
   "cell_type": "code",
   "execution_count": 63,
   "id": "d2b6d111-5383-4ab4-8351-e529d71e7f37",
   "metadata": {},
   "outputs": [
    {
     "data": {
      "text/plain": [
       "array([3, 4, 5])"
      ]
     },
     "execution_count": 63,
     "metadata": {},
     "output_type": "execute_result"
    }
   ],
   "source": [
    "# Element wise operations\n",
    "\n",
    "a + 2"
   ]
  },
  {
   "cell_type": "code",
   "execution_count": 61,
   "id": "042bb80c-d0a5-4a59-87bf-8a73d1a40b20",
   "metadata": {},
   "outputs": [
    {
     "data": {
      "text/plain": [
       "array([0.5, 1. , 1.5])"
      ]
     },
     "execution_count": 61,
     "metadata": {},
     "output_type": "execute_result"
    }
   ],
   "source": [
    "a / 2"
   ]
  },
  {
   "cell_type": "code",
   "execution_count": 62,
   "id": "e0fae811-2379-4d4f-8e78-1a53380e7b38",
   "metadata": {},
   "outputs": [
    {
     "data": {
      "text/plain": [
       "array([2, 4, 6])"
      ]
     },
     "execution_count": 62,
     "metadata": {},
     "output_type": "execute_result"
    }
   ],
   "source": [
    "a + b"
   ]
  },
  {
   "cell_type": "code",
   "execution_count": 64,
   "id": "16a33610-7b2d-4166-bec2-246dd46f1b40",
   "metadata": {},
   "outputs": [
    {
     "data": {
      "text/plain": [
       "array([1, 4, 9])"
      ]
     },
     "execution_count": 64,
     "metadata": {},
     "output_type": "execute_result"
    }
   ],
   "source": [
    "a ** 2"
   ]
  },
  {
   "cell_type": "code",
   "execution_count": 65,
   "id": "a2841f5d-a4cc-453a-8460-33cad88c2442",
   "metadata": {},
   "outputs": [
    {
     "data": {
      "text/plain": [
       "array([0.84147098, 0.90929743, 0.14112001])"
      ]
     },
     "execution_count": 65,
     "metadata": {},
     "output_type": "execute_result"
    }
   ],
   "source": [
    "np.sin(a)"
   ]
  },
  {
   "cell_type": "markdown",
   "id": "068d3f61-2c93-4438-adbb-283f835acd24",
   "metadata": {},
   "source": [
    "##### DOCUMENTATION --> https://docs.scipy.org/doc/numpy/reference/routines.math.html"
   ]
  },
  {
   "cell_type": "markdown",
   "id": "9d2f8acd-5c10-4fb3-ab35-e72035f89442",
   "metadata": {},
   "source": [
    "### LINEAR ALGEBRA"
   ]
  },
  {
   "cell_type": "code",
   "execution_count": 67,
   "id": "ed834bbb-2bf9-4669-a05c-c7ff8a3de332",
   "metadata": {},
   "outputs": [],
   "source": [
    "a = np.ones((2, 3))\n",
    "b = np.full((3, 2), 2)"
   ]
  },
  {
   "cell_type": "code",
   "execution_count": 70,
   "id": "7aa18c6f-2922-4503-ada5-c8cbc2339c01",
   "metadata": {},
   "outputs": [
    {
     "data": {
      "text/plain": [
       "array([[6., 6.],\n",
       "       [6., 6.]])"
      ]
     },
     "execution_count": 70,
     "metadata": {},
     "output_type": "execute_result"
    }
   ],
   "source": [
    "# Matrix Multiplication\n",
    "np.matmul(a, b)"
   ]
  },
  {
   "cell_type": "code",
   "execution_count": 73,
   "id": "f6afb1e7-0d83-4a0d-a886-ca016c0247f1",
   "metadata": {},
   "outputs": [
    {
     "data": {
      "text/plain": [
       "1.0"
      ]
     },
     "execution_count": 73,
     "metadata": {},
     "output_type": "execute_result"
    }
   ],
   "source": [
    "# Determinant of a matrix\n",
    "a = np.identity(3)\n",
    "np.linalg.det(a)"
   ]
  },
  {
   "cell_type": "markdown",
   "id": "7b347efc-22ad-4c59-a61f-4602ec3e8091",
   "metadata": {},
   "source": [
    "##### DOCUMENTATION --> https://numpy.org/doc/stable/reference/routines.linalg.html"
   ]
  },
  {
   "cell_type": "markdown",
   "id": "7f801d95-7df8-4b3d-97d6-f7897601b79b",
   "metadata": {},
   "source": [
    "### STATISTICS"
   ]
  },
  {
   "cell_type": "code",
   "execution_count": 74,
   "id": "90be8b86-84c9-47fe-ac15-6cd65f49fb86",
   "metadata": {},
   "outputs": [],
   "source": [
    "stats = np.array([[1,2,3],[4,5,6]])"
   ]
  },
  {
   "cell_type": "code",
   "execution_count": 75,
   "id": "aaacc0cd-5441-4433-a87c-a257b76a4279",
   "metadata": {},
   "outputs": [
    {
     "data": {
      "text/plain": [
       "1"
      ]
     },
     "execution_count": 75,
     "metadata": {},
     "output_type": "execute_result"
    }
   ],
   "source": [
    "# Minimum\n",
    "np.min(stats)"
   ]
  },
  {
   "cell_type": "code",
   "execution_count": 76,
   "id": "245ca707-f197-4074-b05b-d99a470315f8",
   "metadata": {},
   "outputs": [
    {
     "data": {
      "text/plain": [
       "6"
      ]
     },
     "execution_count": 76,
     "metadata": {},
     "output_type": "execute_result"
    }
   ],
   "source": [
    "# Maximum\n",
    "np.max(stats)"
   ]
  },
  {
   "cell_type": "code",
   "execution_count": 79,
   "id": "d7700374-033c-428d-ba17-0462ec406ee4",
   "metadata": {},
   "outputs": [
    {
     "name": "stdout",
     "output_type": "stream",
     "text": [
      "21\n",
      "[5 7 9]\n"
     ]
    }
   ],
   "source": [
    "# Sum\n",
    "print(np.sum(stats))\n",
    "print(np.sum(stats, axis=0)) # Sum of both rows"
   ]
  },
  {
   "cell_type": "markdown",
   "id": "8dbdf51a-50a6-4343-ac8a-efa816bd861d",
   "metadata": {},
   "source": [
    "### REORGANIZING ARRAYS"
   ]
  },
  {
   "cell_type": "code",
   "execution_count": 81,
   "id": "38f19b49-ebfe-4002-badd-b5922125cf71",
   "metadata": {},
   "outputs": [
    {
     "data": {
      "text/plain": [
       "(2, 4)"
      ]
     },
     "execution_count": 81,
     "metadata": {},
     "output_type": "execute_result"
    }
   ],
   "source": [
    "a = np.array([[1,2,3,4],[5,6,7,8]])\n",
    "a.shape"
   ]
  },
  {
   "cell_type": "code",
   "execution_count": 85,
   "id": "460a62a3-afd3-4a3d-8df1-afe256d9c816",
   "metadata": {},
   "outputs": [
    {
     "name": "stdout",
     "output_type": "stream",
     "text": [
      "[[1]\n",
      " [2]\n",
      " [3]\n",
      " [4]\n",
      " [5]\n",
      " [6]\n",
      " [7]\n",
      " [8]]\n",
      "\n",
      "[[1 2]\n",
      " [3 4]\n",
      " [5 6]\n",
      " [7 8]]\n"
     ]
    }
   ],
   "source": [
    "# Change the shape of a matrix\n",
    "# To use reshape, make sure the resulting matrix has the same number of elements as the base matrix\n",
    "print(a.reshape((8,1)))\n",
    "print()\n",
    "print(a.reshape(4,2))"
   ]
  },
  {
   "cell_type": "code",
   "execution_count": 87,
   "id": "f6b01f87-788a-4e44-86b9-4f3e862271d8",
   "metadata": {},
   "outputs": [
    {
     "name": "stdout",
     "output_type": "stream",
     "text": [
      "[[1 2 3 4]\n",
      " [5 6 7 8]\n",
      " [1 2 3 4]\n",
      " [5 6 7 8]]\n",
      "\n",
      "[[1 2 3 4]\n",
      " [1 2 3 4]\n",
      " [5 6 7 8]]\n"
     ]
    }
   ],
   "source": [
    "# Vertical stacks\n",
    "# Dimension is important here as well\n",
    "\n",
    "v1 = np.array([1,2,3,4])\n",
    "v2 = np.array([5,6,7,8])\n",
    "\n",
    "print(np.vstack([v1,v2,v1,v2]))\n",
    "print()\n",
    "print(np.vstack([v1,v1,v2]))"
   ]
  },
  {
   "cell_type": "code",
   "execution_count": 89,
   "id": "13aecb5b-98e2-4e5d-beb0-e9d402c83708",
   "metadata": {},
   "outputs": [
    {
     "name": "stdout",
     "output_type": "stream",
     "text": [
      "[[1. 1. 1. 1. 0. 0.]\n",
      " [1. 1. 1. 1. 0. 0.]]\n",
      "\n",
      "[[1. 1. 1. 1. 0. 0. 1. 1. 1. 1.]\n",
      " [1. 1. 1. 1. 0. 0. 1. 1. 1. 1.]]\n"
     ]
    }
   ],
   "source": [
    "# Horizontal stacks\n",
    "h1 = np.ones((2,4))\n",
    "h2 = np.zeros((2,2))\n",
    "\n",
    "print(np.hstack((h1,h2)))\n",
    "print()\n",
    "print(np.hstack((h1,h2,h1)))"
   ]
  },
  {
   "cell_type": "markdown",
   "id": "8b7b06f6-7460-4fd3-a29f-cea03beb0418",
   "metadata": {},
   "source": [
    "### LOADING DATA FROM FILE"
   ]
  },
  {
   "cell_type": "code",
   "execution_count": 92,
   "id": "a9321018-2c95-42e3-a189-07af6d143036",
   "metadata": {},
   "outputs": [
    {
     "data": {
      "text/plain": [
       "array([[  1.,  13.,  21.,  11., 196.,  75.,   4.,   3.,  34.,   6.,   7.,\n",
       "          8.,   0.,   1.,   2.,   3.,   4.,   5.],\n",
       "       [  3.,  42.,  12.,  33., 766.,  75.,   4.,  55.,   6.,   4.,   3.,\n",
       "          4.,   5.,   6.,   7.,   0.,  11.,  12.],\n",
       "       [  1.,  22.,  33.,  11., 999.,  11.,   2.,   1.,  78.,   0.,   1.,\n",
       "          2.,   9.,   8.,   7.,   1.,  76.,  88.]])"
      ]
     },
     "execution_count": 92,
     "metadata": {},
     "output_type": "execute_result"
    }
   ],
   "source": [
    "a = np.genfromtxt('data.txt', delimiter=',') # Delimiter = Separator\n",
    "a"
   ]
  },
  {
   "cell_type": "code",
   "execution_count": 93,
   "id": "81cc8978-a094-46e1-ae82-a1db61af02c8",
   "metadata": {},
   "outputs": [
    {
     "data": {
      "text/plain": [
       "array([[  1,  13,  21,  11, 196,  75,   4,   3,  34,   6,   7,   8,   0,\n",
       "          1,   2,   3,   4,   5],\n",
       "       [  3,  42,  12,  33, 766,  75,   4,  55,   6,   4,   3,   4,   5,\n",
       "          6,   7,   0,  11,  12],\n",
       "       [  1,  22,  33,  11, 999,  11,   2,   1,  78,   0,   1,   2,   9,\n",
       "          8,   7,   1,  76,  88]])"
      ]
     },
     "execution_count": 93,
     "metadata": {},
     "output_type": "execute_result"
    }
   ],
   "source": [
    "a.astype('int32')"
   ]
  },
  {
   "cell_type": "markdown",
   "id": "beeecd15-114e-47a6-8655-5a01f50edcf8",
   "metadata": {},
   "source": [
    " ### BOOLEAN MASKING AND ADVANCED INDEXING"
   ]
  },
  {
   "cell_type": "code",
   "execution_count": 96,
   "id": "c63de974-a90b-40e9-807a-9e129d38d2e6",
   "metadata": {},
   "outputs": [
    {
     "data": {
      "text/plain": [
       "array([[False, False, False, False,  True,  True, False, False, False,\n",
       "        False, False, False, False, False, False, False, False, False],\n",
       "       [False, False, False, False,  True,  True, False,  True, False,\n",
       "        False, False, False, False, False, False, False, False, False],\n",
       "       [False, False, False, False,  True, False, False, False,  True,\n",
       "        False, False, False, False, False, False, False,  True,  True]])"
      ]
     },
     "execution_count": 96,
     "metadata": {},
     "output_type": "execute_result"
    }
   ],
   "source": [
    "a > 50"
   ]
  },
  {
   "cell_type": "code",
   "execution_count": 95,
   "id": "8fc17081-7378-4ead-bbb2-f327561ffdd2",
   "metadata": {},
   "outputs": [
    {
     "data": {
      "text/plain": [
       "array([196.,  75., 766.,  75.,  55., 999.,  78.,  76.,  88.])"
      ]
     },
     "execution_count": 95,
     "metadata": {},
     "output_type": "execute_result"
    }
   ],
   "source": [
    "a[a > 50]"
   ]
  },
  {
   "cell_type": "code",
   "execution_count": 101,
   "id": "6a2b879a-38cf-4164-a241-7f01664c2fb5",
   "metadata": {},
   "outputs": [
    {
     "data": {
      "text/plain": [
       "array([1, 2, 3])"
      ]
     },
     "execution_count": 101,
     "metadata": {},
     "output_type": "execute_result"
    }
   ],
   "source": [
    "a = np.array([1,2,3,4,5])\n",
    "a[[0,1,2]] # Returns the first 3 elements"
   ]
  },
  {
   "cell_type": "code",
   "execution_count": 103,
   "id": "d1dcd38d-710f-4fcf-8248-703d350d0996",
   "metadata": {},
   "outputs": [
    {
     "data": {
      "text/plain": [
       "array([False,  True,  True, False, False])"
      ]
     },
     "execution_count": 103,
     "metadata": {},
     "output_type": "execute_result"
    }
   ],
   "source": [
    "(a > 1) & (a < 4)"
   ]
  },
  {
   "cell_type": "code",
   "execution_count": 104,
   "id": "98649436-fe3f-4c02-a3de-ac39c79d205d",
   "metadata": {},
   "outputs": [
    {
     "data": {
      "text/plain": [
       "array([ True, False, False,  True,  True])"
      ]
     },
     "execution_count": 104,
     "metadata": {},
     "output_type": "execute_result"
    }
   ],
   "source": [
    "~((a > 1) & (a < 4)) # Complement"
   ]
  }
 ],
 "metadata": {
  "kernelspec": {
   "display_name": "Python 3 (ipykernel)",
   "language": "python",
   "name": "python3"
  },
  "language_info": {
   "codemirror_mode": {
    "name": "ipython",
    "version": 3
   },
   "file_extension": ".py",
   "mimetype": "text/x-python",
   "name": "python",
   "nbconvert_exporter": "python",
   "pygments_lexer": "ipython3",
   "version": "3.11.3"
  }
 },
 "nbformat": 4,
 "nbformat_minor": 5
}
